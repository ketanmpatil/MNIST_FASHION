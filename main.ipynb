{
 "cells": [
  {
   "cell_type": "code",
   "execution_count": 16,
   "id": "9a0681eb",
   "metadata": {},
   "outputs": [],
   "source": [
    "import pandas as pd\n",
    "import numpy as np\n",
    "import matplotlib.pyplot as plt\n",
    "import tensorflow as tf\n",
    "import tensorflow.keras.layers as layers\n",
    "from sklearn.model_selection import train_test_split\n",
    "import cv2\n"
   ]
  },
  {
   "cell_type": "code",
   "execution_count": 127,
   "id": "ce2c284b",
   "metadata": {},
   "outputs": [],
   "source": [
    "data = pd.read_csv('train_LbELtWX\\\\train.csv')"
   ]
  },
  {
   "cell_type": "code",
   "execution_count": 128,
   "id": "7f2ee6a0",
   "metadata": {},
   "outputs": [],
   "source": [
    "X=[]\n",
    "for i in data['id']:\n",
    "    path = 'train_LbELtWX\\\\train\\\\' + str(i) + '.png'\n",
    "    img = cv2.imread(path)\n",
    "    img = cv2.resize(img,(28,28))\n",
    "    X.append(img.astype('float32'))\n",
    "    \n",
    "X=np.array(X)\n"
   ]
  },
  {
   "cell_type": "code",
   "execution_count": 116,
   "id": "25bfcafd",
   "metadata": {},
   "outputs": [
    {
     "name": "stderr",
     "output_type": "stream",
     "text": [
      "Clipping input data to the valid range for imshow with RGB data ([0..1] for floats or [0..255] for integers).\n"
     ]
    },
    {
     "data": {
      "text/plain": [
       "<matplotlib.image.AxesImage at 0x1acd3e1f3d0>"
      ]
     },
     "execution_count": 116,
     "metadata": {},
     "output_type": "execute_result"
    },
    {
     "data": {
      "image/png": "[encoded data removed]",
      "text/plain": [
       "<Figure size 432x288 with 1 Axes>"
      ]
     },
     "metadata": {
      "needs_background": "light"
     },
     "output_type": "display_data"
    }
   ],
   "source": [
    "plt.imshow(X[0])"
   ]
  },
  {
   "cell_type": "code",
   "execution_count": 18,
   "id": "bdcaf49a",
   "metadata": {},
   "outputs": [],
   "source": [
    "X=X / 255"
   ]
  },
  {
   "cell_type": "code",
   "execution_count": 19,
   "id": "921c27a3",
   "metadata": {},
   "outputs": [],
   "source": [
    "Y=data['label']"
   ]
  },
  {
   "cell_type": "code",
   "execution_count": 45,
   "id": "a01398b1",
   "metadata": {},
   "outputs": [],
   "source": [
    "Y = np.array(tf.one_hot(Y,10))"
   ]
  },
  {
   "cell_type": "code",
   "execution_count": 47,
   "id": "c3129645",
   "metadata": {},
   "outputs": [],
   "source": [
    "X_train,X_val,Y_train,Y_val = train_test_split(X,Y,random_state=42,test_size=0.17)"
   ]
  },
  {
   "cell_type": "code",
   "execution_count": 48,
   "id": "092e7abf",
   "metadata": {},
   "outputs": [
    {
     "data": {
      "text/plain": [
       "((49800, 28, 28, 3), (49800, 10))"
      ]
     },
     "execution_count": 48,
     "metadata": {},
     "output_type": "execute_result"
    }
   ],
   "source": [
    "X_train.shape,Y_train.shape"
   ]
  },
  {
   "cell_type": "code",
   "execution_count": 117,
   "id": "80aa08e2",
   "metadata": {},
   "outputs": [],
   "source": [
    "model= tf.keras.Sequential([\n",
    "# Model_1 Architecture\n",
    "#     layers.Conv2D(256,3,input_shape=(28,28,3),activation='relu'),\n",
    "#     layers.MaxPooling2D(2),\n",
    "#     layers.Conv2D(128,3,activation='relu'),\n",
    "#     layers.MaxPooling2D(2),\n",
    "    \n",
    "#     layers.Flatten(),\n",
    "#     layers.Dense(512,activation='relu'),\n",
    "#     layers.Dropout(0.2),\n",
    "#     layers.Dense(216,activation='relu'),\n",
    "#     layers.Dropout(0.2),\n",
    "#     layers.Dense(10,activation='softmax'),\n",
    "    \n",
    "# Model_2 Architecture\n",
    "#     layers.Conv2D(128,3,input_shape=(28,28,3),activation='relu'),\n",
    "#     layers.MaxPooling2D(2),\n",
    "#     layers.Conv2D(256,3,input_shape=(28,28,3),activation='relu'),\n",
    "#     layers.MaxPooling2D(3),\n",
    "    \n",
    "#     layers.Flatten(),\n",
    "#     layers.Dense(1024,activation='relu'),\n",
    "#     layers.Dropout(0.3),\n",
    "#     layers.Dense(512,activation='relu'),\n",
    "#     layers.Dropout(0.3),\n",
    "#     layers.Dense(128,activation='relu'),\n",
    "#     layers.Dropout(0.2),\n",
    "#     layers.Dense(10,activation='softmax'),\n",
    "\n",
    "# # Model_3 Architecture\n",
    "    layers.Conv2D(128,3,input_shape=(28,28,3),activation='relu'),\n",
    "    layers.MaxPooling2D(2),\n",
    "    layers.Conv2D(256,3 ,activation='relu'),\n",
    "    layers.MaxPooling2D(2),\n",
    "    layers.Flatten(),\n",
    "    layers.Dense(256,activation='relu'),\n",
    "    layers.Dropout(0.2),\n",
    "    layers.Dense(10,activation='softmax'),\n",
    "    \n",
    "    \n",
    "])"
   ]
  },
  {
   "cell_type": "code",
   "execution_count": 118,
   "id": "b714fa4a",
   "metadata": {},
   "outputs": [
    {
     "name": "stdout",
     "output_type": "stream",
     "text": [
      "Model: \"sequential_22\"\n",
      "_________________________________________________________________\n",
      "Layer (type)                 Output Shape              Param #   \n",
      "=================================================================\n",
      "conv2d_52 (Conv2D)           (None, 26, 26, 128)       3584      \n",
      "_________________________________________________________________\n",
      "max_pooling2d_50 (MaxPooling (None, 13, 13, 128)       0         \n",
      "_________________________________________________________________\n",
      "conv2d_53 (Conv2D)           (None, 11, 11, 256)       295168    \n",
      "_________________________________________________________________\n",
      "max_pooling2d_51 (MaxPooling (None, 5, 5, 256)         0         \n",
      "_________________________________________________________________\n",
      "flatten_22 (Flatten)         (None, 6400)              0         \n",
      "_________________________________________________________________\n",
      "dense_61 (Dense)             (None, 256)               1638656   \n",
      "_________________________________________________________________\n",
      "dropout_44 (Dropout)         (None, 256)               0         \n",
      "_________________________________________________________________\n",
      "dense_62 (Dense)             (None, 10)                2570      \n",
      "=================================================================\n",
      "Total params: 1,939,978\n",
      "Trainable params: 1,939,978\n",
      "Non-trainable params: 0\n",
      "_________________________________________________________________\n"
     ]
    }
   ],
   "source": [
    "model.summary()"
   ]
  },
  {
   "cell_type": "code",
   "execution_count": 119,
   "id": "26694429",
   "metadata": {},
   "outputs": [],
   "source": [
    "model.compile(optimizer=tf.keras.optimizers.Adam(1e-4),loss=tf.keras.losses.CategoricalCrossentropy(),metrics=['accuracy'])"
   ]
  },
  {
   "cell_type": "code",
   "execution_count": 121,
   "id": "765fd71a",
   "metadata": {},
   "outputs": [
    {
     "name": "stdout",
     "output_type": "stream",
     "text": [
      "Epoch 1/10\n",
      "1557/1557 [==============================] - 538s 345ms/step - loss: 0.5451 - accuracy: 0.8056\n",
      "Epoch 2/10\n",
      "1557/1557 [==============================] - 550s 353ms/step - loss: 0.3719 - accuracy: 0.8676\n",
      "Epoch 3/10\n",
      "1557/1557 [==============================] - 517s 332ms/step - loss: 0.3218 - accuracy: 0.8847\n",
      "Epoch 4/10\n",
      "1557/1557 [==============================] - 514s 330ms/step - loss: 0.2864 - accuracy: 0.8961\n",
      "Epoch 5/10\n",
      "1557/1557 [==============================] - 508s 326ms/step - loss: 0.2640 - accuracy: 0.9039\n",
      "Epoch 6/10\n",
      "1557/1557 [==============================] - 552s 355ms/step - loss: 0.2427 - accuracy: 0.9127\n",
      "Epoch 7/10\n",
      "1557/1557 [==============================] - 618s 397ms/step - loss: 0.2247 - accuracy: 0.9172\n",
      "Epoch 8/10\n",
      "1557/1557 [==============================] - 601s 386ms/step - loss: 0.2080 - accuracy: 0.9248\n",
      "Epoch 9/10\n",
      "1557/1557 [==============================] - 565s 363ms/step - loss: 0.1924 - accuracy: 0.9310\n",
      "Epoch 10/10\n",
      "1557/1557 [==============================] - 578s 371ms/step - loss: 0.1787 - accuracy: 0.9336\n"
     ]
    },
    {
     "data": {
      "text/plain": [
       "<tensorflow.python.keras.callbacks.History at 0x1acd35a39d0>"
      ]
     },
     "execution_count": 121,
     "metadata": {},
     "output_type": "execute_result"
    }
   ],
   "source": [
    "model.fit(X_train,Y_train,epochs=10)"
   ]
  },
  {
   "cell_type": "code",
   "execution_count": 122,
   "id": "dd88e61c",
   "metadata": {},
   "outputs": [
    {
     "name": "stdout",
     "output_type": "stream",
     "text": [
      "319/319 [==============================] - 34s 104ms/step - loss: 0.2359 - accuracy: 0.9131\n"
     ]
    },
    {
     "data": {
      "text/plain": [
       "[0.23592843115329742, 0.9131372570991516]"
      ]
     },
     "execution_count": 122,
     "metadata": {},
     "output_type": "execute_result"
    }
   ],
   "source": [
    "model.evaluate(X_val,Y_val)"
   ]
  },
  {
   "cell_type": "code",
   "execution_count": 124,
   "id": "cd0424de",
   "metadata": {},
   "outputs": [],
   "source": [
    "model.save('model_4.model',save_format='h5')"
   ]
  },
  {
   "cell_type": "code",
   "execution_count": null,
   "id": "06f5dd4d",
   "metadata": {},
   "outputs": [],
   "source": []
  }
 ],
 "metadata": {
  "kernelspec": {
   "display_name": "Python 3",
   "language": "python",
   "name": "python3"
  },
  "language_info": {
   "codemirror_mode": {
    "name": "ipython",
    "version": 3
   },
   "file_extension": ".py",
   "mimetype": "text/x-python",
   "name": "python",
   "nbconvert_exporter": "python",
   "pygments_lexer": "ipython3",
   "version": "3.9.5"
  }
 },
 "nbformat": 4,
 "nbformat_minor": 5
}
