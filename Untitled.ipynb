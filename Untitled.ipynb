{
 "cells": [
  {
   "cell_type": "code",
   "execution_count": 1,
   "id": "50092d53",
   "metadata": {},
   "outputs": [],
   "source": [
    "import pandas as pd\n",
    "import numpy as np\n",
    "import matplotlib.pyplot as plt\n",
    "import tensorflow as tf\n",
    "import tensorflow.keras.layers as layers\n",
    "from sklearn.model_selection import train_test_split\n",
    "import cv2\n"
   ]
  },
  {
   "cell_type": "code",
   "execution_count": 9,
   "id": "18ac7e5a",
   "metadata": {},
   "outputs": [],
   "source": [
    "data = pd.read_csv('test_ScVgIM0\\\\test.csv')"
   ]
  },
  {
   "cell_type": "code",
   "execution_count": 11,
   "id": "3340f588",
   "metadata": {},
   "outputs": [],
   "source": [
    "X=[]\n",
    "for i in data['id']:\n",
    "    path = 'test_ScVgIM0\\\\test\\\\' + str(i) + '.png'\n",
    "    img = cv2.imread(path)\n",
    "    img = cv2.resize(img,(28,28))\n",
    "    X.append(img.astype('float32'))\n",
    "    \n",
    "X=np.array(X)\n"
   ]
  },
  {
   "cell_type": "code",
   "execution_count": 12,
   "id": "c95000a4",
   "metadata": {},
   "outputs": [
    {
     "ename": "SyntaxError",
     "evalue": "unexpected character after line continuation character (<ipython-input-12-e898b66a042c>, line 1)",
     "output_type": "error",
     "traceback": [
      "\u001b[1;36m  File \u001b[1;32m\"<ipython-input-12-e898b66a042c>\"\u001b[1;36m, line \u001b[1;32m1\u001b[0m\n\u001b[1;33m    X = X \\ 255\u001b[0m\n\u001b[1;37m              ^\u001b[0m\n\u001b[1;31mSyntaxError\u001b[0m\u001b[1;31m:\u001b[0m unexpected character after line continuation character\n"
     ]
    }
   ],
   "source": [
    "X = X \\ 255"
   ]
  },
  {
   "cell_type": "code",
   "execution_count": 6,
   "id": "3bf984a6",
   "metadata": {},
   "outputs": [],
   "source": [
    "model = tf.keras.models.load_model('model_4.model')"
   ]
  },
  {
   "cell_type": "code",
   "execution_count": 14,
   "id": "1e20a56a",
   "metadata": {},
   "outputs": [],
   "source": [
    "pred=model.predict(X)"
   ]
  },
  {
   "cell_type": "code",
   "execution_count": 28,
   "id": "739df1bb",
   "metadata": {},
   "outputs": [],
   "source": [
    "predictions=[]\n",
    "for i in range(pred.shape[0]):\n",
    "    predictions.append(np.where(pred[i]==pred[i].max())[0][0])"
   ]
  },
  {
   "cell_type": "code",
   "execution_count": 35,
   "id": "332f58d2",
   "metadata": {},
   "outputs": [],
   "source": [
    "sub=data.join(pd.DataFrame(predictions,columns=['label']))"
   ]
  },
  {
   "cell_type": "code",
   "execution_count": 38,
   "id": "a5f3e01d",
   "metadata": {},
   "outputs": [],
   "source": [
    "sub.to_csv('sub.csv')"
   ]
  },
  {
   "cell_type": "code",
   "execution_count": null,
   "id": "d7e45860",
   "metadata": {},
   "outputs": [],
   "source": []
  }
 ],
 "metadata": {
  "kernelspec": {
   "display_name": "Python 3",
   "language": "python",
   "name": "python3"
  },
  "language_info": {
   "codemirror_mode": {
    "name": "ipython",
    "version": 3
   },
   "file_extension": ".py",
   "mimetype": "text/x-python",
   "name": "python",
   "nbconvert_exporter": "python",
   "pygments_lexer": "ipython3",
   "version": "3.9.5"
  }
 },
 "nbformat": 4,
 "nbformat_minor": 5
}
